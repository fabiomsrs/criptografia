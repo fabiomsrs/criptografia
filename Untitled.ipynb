{
 "cells": [
  {
   "cell_type": "code",
   "execution_count": 21,
   "metadata": {},
   "outputs": [
    {
     "name": "stdout",
     "output_type": "stream",
     "text": [
      "b'mXMFXj7HtDnytEZr74P0R+4FWva+6aBgEHCtxYrGbWRj8Sa/bhQizK0sa0XDyeYX7NTyBr/CUStKSX2yOzDH1A=='\n",
      "professor fernando e barriga branca\n"
     ]
    }
   ],
   "source": [
    "from hashlib import sha256\n",
    "import base64\n",
    "from Crypto import Random\n",
    "from Crypto.Cipher import AES\n",
    "\n",
    "BS = 16\n",
    "pad = lambda s: bytes(s + (BS - len(s) % BS) * chr(BS - len(s) % BS), 'utf-8')\n",
    "unpad = lambda s : s[0:-ord(s[-1:])]\n",
    "\n",
    "class AESCipher:\n",
    "\n",
    "    def __init__( self, key ):\n",
    "        self.key = bytes(key, 'utf-8')\n",
    "\n",
    "    def encrypt( self, raw ):\n",
    "        raw = pad(raw)        \n",
    "        iv = Random.new().read( AES.block_size )\n",
    "        cipher = AES.new(self.key, AES.MODE_CBC, iv )\n",
    "        return base64.b64encode( iv + cipher.encrypt( raw ) )\n",
    "\n",
    "    def decrypt( self, enc ):\n",
    "        enc = base64.b64decode(enc)\n",
    "        iv = enc[:16]\n",
    "        cipher = AES.new(self.key, AES.MODE_CBC, iv )\n",
    "        return unpad(cipher.decrypt( enc[16:] )).decode('utf8')\n",
    "\n",
    "cipher = AESCipher('mykeysecretpass ')\n",
    "encrypted = cipher.encrypt('professor fernando e barriga branca')\n",
    "decrypted = cipher.decrypt(encrypted)\n",
    "\n",
    "print(encrypted)\n",
    "print(decrypted)\n"
   ]
  },
  {
   "cell_type": "code",
   "execution_count": null,
   "metadata": {},
   "outputs": [],
   "source": []
  }
 ],
 "metadata": {
  "kernelspec": {
   "display_name": "Python 3",
   "language": "python",
   "name": "python3"
  },
  "language_info": {
   "codemirror_mode": {
    "name": "ipython",
    "version": 3
   },
   "file_extension": ".py",
   "mimetype": "text/x-python",
   "name": "python",
   "nbconvert_exporter": "python",
   "pygments_lexer": "ipython3",
   "version": "3.6.6"
  }
 },
 "nbformat": 4,
 "nbformat_minor": 2
}
